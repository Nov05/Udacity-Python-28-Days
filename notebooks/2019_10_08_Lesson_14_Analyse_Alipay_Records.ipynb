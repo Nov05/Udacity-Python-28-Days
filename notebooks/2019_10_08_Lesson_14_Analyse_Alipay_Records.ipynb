{
  "nbformat": 4,
  "nbformat_minor": 0,
  "metadata": {
    "colab": {
      "name": "2019-10-08 Lesson 14 Analyse Alipay Records.ipynb",
      "provenance": [],
      "collapsed_sections": [],
      "include_colab_link": true
    },
    "kernelspec": {
      "name": "python3",
      "display_name": "Python 3"
    }
  },
  "cells": [
    {
      "cell_type": "markdown",
      "metadata": {
        "id": "view-in-github",
        "colab_type": "text"
      },
      "source": [
        "<a href=\"https://colab.research.google.com/github/Nov05/Udacity-Python-28-Days/blob/master/notebooks/2019_10_08_Lesson_14_Analyse_Alipay_Records.ipynb\" target=\"_parent\"><img src=\"https://colab.research.google.com/assets/colab-badge.svg\" alt=\"Open In Colab\"/></a>"
      ]
    },
    {
      "cell_type": "code",
      "metadata": {
        "id": "L6rYc0A8bQyh",
        "colab_type": "code",
        "colab": {}
      },
      "source": [
        "# created by nov05 on 2019-10-08"
      ],
      "execution_count": 0,
      "outputs": []
    },
    {
      "cell_type": "markdown",
      "metadata": {
        "id": "lrNS5Pg8ZSpC",
        "colab_type": "text"
      },
      "source": [
        "https://github.com/Nov05/Udacity-Python-28-Days  "
      ]
    },
    {
      "cell_type": "code",
      "metadata": {
        "id": "HMua6Qz-dYll",
        "colab_type": "code",
        "colab": {}
      },
      "source": [
        "%%writefile app.py\n",
        "# coding=utf-8\n",
        "\n",
        "import csv\n",
        "from collections import defaultdict\n",
        "\n",
        "RAW_RECORD = 'alipay_record_20190429_1707_1.csv'  ## 填写你下载的文件名称，需要包括 .csv 后缀\n",
        "CLEANED_RECORD = RAW_RECORD.split('.')[0] + '_cleaned.csv'\n",
        "\n",
        "def clean_csv(input, output):\n",
        "    with open(input, encoding='gbk') as f, open(output, 'w') as o:\n",
        "        lines = f.readlines() ## 注意这行代码会一次性读取整个文件，若文件非常大时不推荐使用\n",
        "        lines = lines[4:-7] ## 去掉开头结尾非 CSV 的内容\n",
        "        lines = [line.replace(' ', '') for line in lines] ## 去掉空格\n",
        "        o.writelines(lines)\n",
        "\n",
        "def analyze_income_expense(record):\n",
        "    income = 0\n",
        "    expense = 0\n",
        "\n",
        "    with open(record, 'r') as f:\n",
        "        records = csv.DictReader(f)\n",
        "        for r in records:\n",
        "            if r['收/支'] == '支出':\n",
        "                expense  += float(r['金额（元）'])\n",
        "            elif r['收/支'] == '收入':\n",
        "                income += float(r['金额（元）'])\n",
        "\n",
        "    print(f'\\n总收入：{income:.2f}，总支出：{expense:.2f}')\n",
        "\n",
        "\n",
        "def analyze_max_expense_item(record):\n",
        "    max_expense_row = []\n",
        "    max_expense = 0\n",
        "\n",
        "    with open(record, 'r') as f:\n",
        "        records = csv.DictReader(f)\n",
        "        for r in records:\n",
        "            if r['收/支'] == '支出':\n",
        "                if float(r['金额（元）']) > max_expense:\n",
        "                    max_expense_row = r\n",
        "                    max_expense = float(r['金额（元）'])\n",
        "\n",
        "    print(f\"\\n单笔支出最高的款项发生在：{max_expense_row['交易创建时间']}，商品名称为：{max_expense_row['商品名称']}，交易对方为：{max_expense_row['交易对方']}，金额为：{max_expense_row['金额（元）']}\")\n",
        "\n",
        "\n",
        "def analyze_max_expense_date(record):\n",
        "    expense_date = defaultdict(int) ## 使用 defaultdict 避免键值不在字典中的情况，详情：https://www.jianshu.com/p/bbd258f99fd3  \n",
        "\n",
        "    with open(record, 'r') as f:\n",
        "        records = csv.DictReader(f)\n",
        "        for r in records:\n",
        "            if r['收/支'] == '支出':\n",
        "                r['交易创建时间'] = r['交易创建时间'][:10]\n",
        "                expense_date[r['交易创建时间']] += float(r['金额（元）'])\n",
        "\n",
        "    ## 循环遍历 expense_date 中的日期和支出，找出支出最多的一天\n",
        "    date_max = ''\n",
        "    expense_max = 0\n",
        "    for k, v in expense_date.items():\n",
        "        if expense_max < v:\n",
        "            expense_max = v\n",
        "            date_max = k\n",
        "    print(f'\\n支出金额最多的一天发生在：{date_max}，总计花费：{expense_max:.2f}')\n",
        "\n",
        "\n",
        "if __name__ == \"__main__\":\n",
        "    clean_csv(RAW_RECORD, CLEANED_RECORD)\n",
        "    analyze_income_expense(CLEANED_RECORD)\n",
        "    analyze_max_expense_item(CLEANED_RECORD)\n",
        "    analyze_max_expense_date(CLEANED_RECORD)"
      ],
      "execution_count": 0,
      "outputs": []
    }
  ]
}