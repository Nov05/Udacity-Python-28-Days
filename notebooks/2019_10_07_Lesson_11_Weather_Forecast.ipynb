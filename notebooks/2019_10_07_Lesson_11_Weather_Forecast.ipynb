{
  "nbformat": 4,
  "nbformat_minor": 0,
  "metadata": {
    "colab": {
      "name": "2019-10-07 Lesson 11 Weather Forecast.ipynb",
      "provenance": [],
      "collapsed_sections": [],
      "include_colab_link": true
    },
    "kernelspec": {
      "name": "python3",
      "display_name": "Python 3"
    }
  },
  "cells": [
    {
      "cell_type": "markdown",
      "metadata": {
        "id": "view-in-github",
        "colab_type": "text"
      },
      "source": [
        "<a href=\"https://colab.research.google.com/github/Nov05/Udacity-Python-28-Days/blob/master/notebooks/2019_10_07_Lesson_11_Weather_Forecast.ipynb\" target=\"_parent\"><img src=\"https://colab.research.google.com/assets/colab-badge.svg\" alt=\"Open In Colab\"/></a>"
      ]
    },
    {
      "cell_type": "code",
      "metadata": {
        "id": "HU0STS3WwGvO",
        "colab_type": "code",
        "colab": {}
      },
      "source": [
        "# created by nov05 on 2019-10-07"
      ],
      "execution_count": 0,
      "outputs": []
    },
    {
      "cell_type": "markdown",
      "metadata": {
        "id": "pnj0BD_rwYad",
        "colab_type": "text"
      },
      "source": [
        "# try and excpet"
      ]
    },
    {
      "cell_type": "code",
      "metadata": {
        "id": "3zPMJ5lBwKTM",
        "colab_type": "code",
        "colab": {
          "base_uri": "https://localhost:8080/",
          "height": 175
        },
        "outputId": "e2e72d72-c1de-411b-f7fa-a5b5e2ad7542"
      },
      "source": [
        "try:\n",
        "    r = requests.get(\"https://www.udacity.com\")\n",
        "except NameError:\n",
        "    print(\"Did you forget to import the requests module?\")\n",
        "\n",
        "try:\n",
        "    print(r.text)\n",
        "except NameError:\n",
        "    print(\"There seems to be a NameError; r is not defined!\")\n",
        "\n",
        "string = 'short'\n",
        "try:\n",
        "    for letter in range(6):\n",
        "        print(string[letter])\n",
        "except IndexError:\n",
        "    print(\"Did you try to index past the end of the string?\")\n",
        "\n",
        "print(\"Woohoo! You got them all!\")"
      ],
      "execution_count": 1,
      "outputs": [
        {
          "output_type": "stream",
          "text": [
            "Did you forget to import the requests module?\n",
            "There seems to be a NameError; r is not defined!\n",
            "s\n",
            "h\n",
            "o\n",
            "r\n",
            "t\n",
            "Did you try to index past the end of the string?\n",
            "Woohoo! You got them all!\n"
          ],
          "name": "stdout"
        }
      ]
    },
    {
      "cell_type": "code",
      "metadata": {
        "id": "dQNrquzewn70",
        "colab_type": "code",
        "colab": {
          "base_uri": "https://localhost:8080/",
          "height": 87
        },
        "outputId": "d57cd4c1-1280-45da-b48d-245ecafc0f3e"
      },
      "source": [
        "import requests\n",
        "from IPython.display import display, HTML\n",
        "\n",
        "try:\n",
        "    r = requests.get(\"https://www.udacity.com\")\n",
        "    print(r) # If you did print(r.status_code), that also works!\n",
        "    if r.status_code == 200:\n",
        "#         display(HTML(r.text))\n",
        "        print(r.text[:100])\n",
        "except requests.exceptions.ConnectionError:\n",
        "    print(\"Could not connect to server.\")"
      ],
      "execution_count": 12,
      "outputs": [
        {
          "output_type": "stream",
          "text": [
            "<Response [200]>\n",
            "<!DOCTYPE html><html><head>\n",
            "  <meta charset=\"utf-8\">\n",
            "  <script type=\"text/javascript\" class=\"ng-star\n"
          ],
          "name": "stdout"
        }
      ]
    },
    {
      "cell_type": "markdown",
      "metadata": {
        "id": "6m3s2QJW25Xx",
        "colab_type": "text"
      },
      "source": [
        "# dictionary   "
      ]
    },
    {
      "cell_type": "code",
      "metadata": {
        "id": "rxURgEdN24WB",
        "colab_type": "code",
        "colab": {
          "base_uri": "https://localhost:8080/",
          "height": 35
        },
        "outputId": "2502af6f-9599-4c5b-dd56-d686787dfac1"
      },
      "source": [
        "d = {'bird': 'tweet', 'fish': 'splash'}\n",
        "d['wolf'] = 'bark'\n",
        "print(d['fish'][1] + d['wolf'][1:])"
      ],
      "execution_count": 1,
      "outputs": [
        {
          "output_type": "stream",
          "text": [
            "park\n"
          ],
          "name": "stdout"
        }
      ]
    },
    {
      "cell_type": "code",
      "metadata": {
        "id": "5b18xRBvuNQE",
        "colab_type": "code",
        "colab": {
          "base_uri": "https://localhost:8080/",
          "height": 70
        },
        "outputId": "3317e664-f4c7-4a32-a6de-d267a57cde4b"
      },
      "source": [
        "for i in d:\n",
        "    print(i)"
      ],
      "execution_count": 2,
      "outputs": [
        {
          "output_type": "stream",
          "text": [
            "bird\n",
            "fish\n",
            "wolf\n"
          ],
          "name": "stdout"
        }
      ]
    },
    {
      "cell_type": "code",
      "metadata": {
        "id": "PTtMLRILuTC4",
        "colab_type": "code",
        "colab": {
          "base_uri": "https://localhost:8080/",
          "height": 70
        },
        "outputId": "5861862a-2d6d-4162-e71e-3f523db7600c"
      },
      "source": [
        "for key in d.keys():\n",
        "    print(key)"
      ],
      "execution_count": 3,
      "outputs": [
        {
          "output_type": "stream",
          "text": [
            "bird\n",
            "fish\n",
            "wolf\n"
          ],
          "name": "stdout"
        }
      ]
    },
    {
      "cell_type": "code",
      "metadata": {
        "id": "wmIfABaNuWiX",
        "colab_type": "code",
        "colab": {
          "base_uri": "https://localhost:8080/",
          "height": 70
        },
        "outputId": "5407e06d-fe45-4713-bc16-6999c6de49bb"
      },
      "source": [
        "for value in d.values():\n",
        "    print(value)"
      ],
      "execution_count": 4,
      "outputs": [
        {
          "output_type": "stream",
          "text": [
            "tweet\n",
            "splash\n",
            "bark\n"
          ],
          "name": "stdout"
        }
      ]
    },
    {
      "cell_type": "code",
      "metadata": {
        "id": "ZrCTbts5uoNf",
        "colab_type": "code",
        "colab": {
          "base_uri": "https://localhost:8080/",
          "height": 70
        },
        "outputId": "caa9b95c-4f0a-4de7-fb50-8e3c1c14e6fc"
      },
      "source": [
        "for key, value in d.items():\n",
        "    print(f\"A lot of {key}s are {value}ing.\")"
      ],
      "execution_count": 7,
      "outputs": [
        {
          "output_type": "stream",
          "text": [
            "A lot of birds are tweeting.\n",
            "A lot of fishs are splashing.\n",
            "A lot of wolfs are barking.\n"
          ],
          "name": "stdout"
        }
      ]
    },
    {
      "cell_type": "code",
      "metadata": {
        "id": "6ZEhW8pHv2cq",
        "colab_type": "code",
        "colab": {
          "base_uri": "https://localhost:8080/",
          "height": 140
        },
        "outputId": "5d38b631-2bae-458e-868b-8e6c67f348bf"
      },
      "source": [
        "str = 'it appears that the the appears the most in the sentence'\n",
        "dict = {}\n",
        "list = str.split(\" \")\n",
        "for word in list:\n",
        "    if word in dict:\n",
        "        dict[word] = dict[word] + 1\n",
        "    else:\n",
        "        dict[word] = 1\n",
        "for key, value in dict.items():\n",
        "    print(f\"\\'{key}\\' appears {value} time(s) in the string\")"
      ],
      "execution_count": 8,
      "outputs": [
        {
          "output_type": "stream",
          "text": [
            "'it' appears 1 time(s) in the string\n",
            "'appears' appears 2 time(s) in the string\n",
            "'that' appears 1 time(s) in the string\n",
            "'the' appears 4 time(s) in the string\n",
            "'most' appears 1 time(s) in the string\n",
            "'in' appears 1 time(s) in the string\n",
            "'sentence' appears 1 time(s) in the string\n"
          ],
          "name": "stdout"
        }
      ]
    },
    {
      "cell_type": "markdown",
      "metadata": {
        "id": "zA6RGv98w8_t",
        "colab_type": "text"
      },
      "source": [
        "### Integer and string can be key of dictionary, while list and dictionary can't.     \n",
        "### Integer, string, list and dictionary can be value of dictionary.  "
      ]
    },
    {
      "cell_type": "markdown",
      "metadata": {
        "id": "D-S9C05Jze4-",
        "colab_type": "text"
      },
      "source": [
        "# Nested data types"
      ]
    },
    {
      "cell_type": "code",
      "metadata": {
        "id": "r3yVmf7_ziyR",
        "colab_type": "code",
        "colab": {
          "base_uri": "https://localhost:8080/",
          "height": 70
        },
        "outputId": "33bca37d-c013-4582-ab8a-f43fcc83af69"
      },
      "source": [
        "weather = [\n",
        "    {\n",
        "        'date':'today',\n",
        "        'state': 'cloudy',\n",
        "        'temp': 68.5\n",
        "    },\n",
        "    {\n",
        "        'date':'tomorrow',\n",
        "        'state': 'sunny',\n",
        "        'temp': 74.8\n",
        "    }\n",
        "]\n",
        "\n",
        "for e in weather[0]:\n",
        "    print(e)"
      ],
      "execution_count": 1,
      "outputs": [
        {
          "output_type": "stream",
          "text": [
            "date\n",
            "state\n",
            "temp\n"
          ],
          "name": "stdout"
        }
      ]
    },
    {
      "cell_type": "code",
      "metadata": {
        "id": "h3FhVDWjzzbm",
        "colab_type": "code",
        "colab": {
          "base_uri": "https://localhost:8080/",
          "height": 70
        },
        "outputId": "60c6d42c-721e-43f5-b379-3bd3a9b9c48a"
      },
      "source": [
        "for e in weather[0].values():\n",
        "    print(e)"
      ],
      "execution_count": 11,
      "outputs": [
        {
          "output_type": "stream",
          "text": [
            "today\n",
            "cloudy\n",
            "68.5\n"
          ],
          "name": "stdout"
        }
      ]
    },
    {
      "cell_type": "code",
      "metadata": {
        "id": "K8rM1i6qz3QF",
        "colab_type": "code",
        "colab": {
          "base_uri": "https://localhost:8080/",
          "height": 123
        },
        "outputId": "7cef4b5f-9653-4984-cec5-2356c0697385"
      },
      "source": [
        "for e in weather:\n",
        "    print(e['date'])\n",
        "    print(e['state'])\n",
        "    print(e['temp'])"
      ],
      "execution_count": 12,
      "outputs": [
        {
          "output_type": "stream",
          "text": [
            "today\n",
            "cloudy\n",
            "68.5\n",
            "tomorrow\n",
            "sunny\n",
            "74.8\n"
          ],
          "name": "stdout"
        }
      ]
    },
    {
      "cell_type": "code",
      "metadata": {
        "id": "5HJvrmej0Frv",
        "colab_type": "code",
        "colab": {
          "base_uri": "https://localhost:8080/",
          "height": 52
        },
        "outputId": "465db29e-61a7-48fc-c765-845b079df4d9"
      },
      "source": [
        "for forecast in weather:\n",
        "    print('The weather for ' + forecast['date'] + ' will be ' + forecast['state'] + ' with a a temperature of ' + str(forecast['temp']) + ' degrees.')"
      ],
      "execution_count": 2,
      "outputs": [
        {
          "output_type": "stream",
          "text": [
            "The weather for today will be cloudy with a a temperature of 68.5 degrees.\n",
            "The weather for tomorrow will be sunny with a a temperature of 74.8 degrees.\n"
          ],
          "name": "stdout"
        }
      ]
    },
    {
      "cell_type": "code",
      "metadata": {
        "id": "s7j492z60yC6",
        "colab_type": "code",
        "colab": {
          "base_uri": "https://localhost:8080/",
          "height": 52
        },
        "outputId": "19f8fb35-ff01-42fb-d7eb-c11e4aa87e7f"
      },
      "source": [
        "for forecast in weather:\n",
        "    print(f\"The weather for {forecast['date']} will be {forecast['state']} with a temperature of {forecast['temp']} degrees.\")"
      ],
      "execution_count": 3,
      "outputs": [
        {
          "output_type": "stream",
          "text": [
            "The weather for today will be cloudy with a temperature of 68.5 degrees.\n",
            "The weather for tomorrow will be sunny with a temperature of 74.8 degrees.\n"
          ],
          "name": "stdout"
        }
      ]
    },
    {
      "cell_type": "code",
      "metadata": {
        "id": "Mw7PO24K1CuP",
        "colab_type": "code",
        "colab": {
          "base_uri": "https://localhost:8080/",
          "height": 52
        },
        "outputId": "c98106c2-823e-45d8-8ee0-5c6665335c7a"
      },
      "source": [
        "for forecast in weather:\n",
        "    date = forecast['date']\n",
        "    state = forecast['state']\n",
        "    temp = forecast['temp']\n",
        "    print(f\"The weather for {date} will be {state} with a temperature of {temp} degrees.\")"
      ],
      "execution_count": 4,
      "outputs": [
        {
          "output_type": "stream",
          "text": [
            "The weather for today will be cloudy with a temperature of 68.5 degrees.\n",
            "The weather for tomorrow will be sunny with a temperature of 74.8 degrees.\n"
          ],
          "name": "stdout"
        }
      ]
    },
    {
      "cell_type": "markdown",
      "metadata": {
        "id": "i2Ko2a4H1OnJ",
        "colab_type": "text"
      },
      "source": [
        "# Get data from API"
      ]
    },
    {
      "cell_type": "code",
      "metadata": {
        "id": "On0n_nI31TNS",
        "colab_type": "code",
        "colab": {
          "base_uri": "https://localhost:8080/",
          "height": 90
        },
        "outputId": "177893d5-3395-4d7c-8791-e96a89251310"
      },
      "source": [
        "import requests\n",
        "import json\n",
        "\n",
        "# Mountain View, California\n",
        "r = requests.get('https://www.metaweather.com/api/location/2455920')\n",
        "print(r)\n",
        "if r.status_code == 200:\n",
        "    print(r.text)\n",
        "    d = r.json()\n",
        "    print(d)"
      ],
      "execution_count": 10,
      "outputs": [
        {
          "output_type": "stream",
          "text": [
            "<Response [200]>\n",
            "{\"consolidated_weather\":[{\"id\":6569499119583232,\"weather_state_name\":\"Light Cloud\",\"weather_state_abbr\":\"lc\",\"wind_direction_compass\":\"WNW\",\"created\":\"2019-10-08T04:41:41.076899Z\",\"applicable_date\":\"2019-10-07\",\"min_temp\":17.615000000000002,\"max_temp\":30.54,\"the_temp\":29.73,\"wind_speed\":2.2097220233834407,\"wind_direction\":296.5,\"air_pressure\":1013.88,\"humidity\":37,\"visibility\":9.69339059890241,\"predictability\":70},{\"id\":6581887214551040,\"weather_state_name\":\"Light Cloud\",\"weather_state_abbr\":\"lc\",\"wind_direction_compass\":\"WNW\",\"created\":\"2019-10-08T04:41:43.844343Z\",\"applicable_date\":\"2019-10-08\",\"min_temp\":16.2,\"max_temp\":24.36,\"the_temp\":21.46,\"wind_speed\":3.243177841406188,\"wind_direction\":300.5,\"air_pressure\":1012.79,\"humidity\":60,\"visibility\":9.999726596675416,\"predictability\":70},{\"id\":6599519296815104,\"weather_state_name\":\"Light Cloud\",\"weather_state_abbr\":\"lc\",\"wind_direction_compass\":\"W\",\"created\":\"2019-10-08T04:41:46.809187Z\",\"applicable_date\":\"2019-10-09\",\"min_temp\":11.51,\"max_temp\":20.895,\"the_temp\":17.29,\"wind_speed\":4.544332895888014,\"wind_direction\":278.5,\"air_pressure\":1011.69,\"humidity\":49,\"visibility\":9.999726596675416,\"predictability\":70},{\"id\":4840512085295104,\"weather_state_name\":\"Light Cloud\",\"weather_state_abbr\":\"lc\",\"wind_direction_compass\":\"N\",\"created\":\"2019-10-08T04:41:49.660391Z\",\"applicable_date\":\"2019-10-10\",\"min_temp\":10.7,\"max_temp\":21.0,\"the_temp\":15.16,\"wind_speed\":4.187109281794321,\"wind_direction\":357.0,\"air_pressure\":1012.24,\"humidity\":31,\"visibility\":9.999726596675416,\"predictability\":70},{\"id\":4533982987288576,\"weather_state_name\":\"Heavy Cloud\",\"weather_state_abbr\":\"hc\",\"wind_direction_compass\":\"NNE\",\"created\":\"2019-10-08T04:41:52.651825Z\",\"applicable_date\":\"2019-10-11\",\"min_temp\":12.005,\"max_temp\":22.96,\"the_temp\":15.45,\"wind_speed\":3.101877634613855,\"wind_direction\":32.0,\"air_pressure\":1015.57,\"humidity\":21,\"visibility\":9.999726596675416,\"predictability\":71},{\"id\":5986891973263360,\"weather_state_name\":\"Heavy Cloud\",\"weather_state_abbr\":\"hc\",\"wind_direction_compass\":\"NNE\",\"created\":\"2019-10-08T04:41:55.639641Z\",\"applicable_date\":\"2019-10-12\",\"min_temp\":12.969999999999999,\"max_temp\":24.52,\"the_temp\":18.41,\"wind_speed\":1.905058657440547,\"wind_direction\":21.000000000000007,\"air_pressure\":1015.71,\"humidity\":27,\"visibility\":9.999726596675416,\"predictability\":71}],\"time\":\"2019-10-07T22:30:12.138324-07:00\",\"sun_rise\":\"2019-10-07T07:08:57.315860-07:00\",\"sun_set\":\"2019-10-07T18:44:12.001252-07:00\",\"timezone_name\":\"LMT\",\"parent\":{\"title\":\"California\",\"location_type\":\"Region / State / Province\",\"woeid\":2347563,\"latt_long\":\"37.271881,-119.270233\"},\"sources\":[{\"title\":\"Forecast.io\",\"slug\":\"forecast-io\",\"url\":\"http://forecast.io/\",\"crawl_rate\":480},{\"title\":\"HAMweather\",\"slug\":\"hamweather\",\"url\":\"http://www.hamweather.com/\",\"crawl_rate\":360},{\"title\":\"OpenWeatherMap\",\"slug\":\"openweathermap\",\"url\":\"http://openweathermap.org/\",\"crawl_rate\":360},{\"title\":\"Weather Underground\",\"slug\":\"wunderground\",\"url\":\"https://www.wunderground.com/?apiref=fc30dc3cd224e19b\",\"crawl_rate\":720},{\"title\":\"World Weather Online\",\"slug\":\"world-weather-online\",\"url\":\"http://www.worldweatheronline.com/\",\"crawl_rate\":360}],\"title\":\"Mountain View\",\"location_type\":\"City\",\"woeid\":2455920,\"latt_long\":\"37.39999,-122.079552\",\"timezone\":\"America/Los_Angeles\"}\n",
            "{'consolidated_weather': [{'id': 6569499119583232, 'weather_state_name': 'Light Cloud', 'weather_state_abbr': 'lc', 'wind_direction_compass': 'WNW', 'created': '2019-10-08T04:41:41.076899Z', 'applicable_date': '2019-10-07', 'min_temp': 17.615000000000002, 'max_temp': 30.54, 'the_temp': 29.73, 'wind_speed': 2.2097220233834407, 'wind_direction': 296.5, 'air_pressure': 1013.88, 'humidity': 37, 'visibility': 9.69339059890241, 'predictability': 70}, {'id': 6581887214551040, 'weather_state_name': 'Light Cloud', 'weather_state_abbr': 'lc', 'wind_direction_compass': 'WNW', 'created': '2019-10-08T04:41:43.844343Z', 'applicable_date': '2019-10-08', 'min_temp': 16.2, 'max_temp': 24.36, 'the_temp': 21.46, 'wind_speed': 3.243177841406188, 'wind_direction': 300.5, 'air_pressure': 1012.79, 'humidity': 60, 'visibility': 9.999726596675416, 'predictability': 70}, {'id': 6599519296815104, 'weather_state_name': 'Light Cloud', 'weather_state_abbr': 'lc', 'wind_direction_compass': 'W', 'created': '2019-10-08T04:41:46.809187Z', 'applicable_date': '2019-10-09', 'min_temp': 11.51, 'max_temp': 20.895, 'the_temp': 17.29, 'wind_speed': 4.544332895888014, 'wind_direction': 278.5, 'air_pressure': 1011.69, 'humidity': 49, 'visibility': 9.999726596675416, 'predictability': 70}, {'id': 4840512085295104, 'weather_state_name': 'Light Cloud', 'weather_state_abbr': 'lc', 'wind_direction_compass': 'N', 'created': '2019-10-08T04:41:49.660391Z', 'applicable_date': '2019-10-10', 'min_temp': 10.7, 'max_temp': 21.0, 'the_temp': 15.16, 'wind_speed': 4.187109281794321, 'wind_direction': 357.0, 'air_pressure': 1012.24, 'humidity': 31, 'visibility': 9.999726596675416, 'predictability': 70}, {'id': 4533982987288576, 'weather_state_name': 'Heavy Cloud', 'weather_state_abbr': 'hc', 'wind_direction_compass': 'NNE', 'created': '2019-10-08T04:41:52.651825Z', 'applicable_date': '2019-10-11', 'min_temp': 12.005, 'max_temp': 22.96, 'the_temp': 15.45, 'wind_speed': 3.101877634613855, 'wind_direction': 32.0, 'air_pressure': 1015.57, 'humidity': 21, 'visibility': 9.999726596675416, 'predictability': 71}, {'id': 5986891973263360, 'weather_state_name': 'Heavy Cloud', 'weather_state_abbr': 'hc', 'wind_direction_compass': 'NNE', 'created': '2019-10-08T04:41:55.639641Z', 'applicable_date': '2019-10-12', 'min_temp': 12.969999999999999, 'max_temp': 24.52, 'the_temp': 18.41, 'wind_speed': 1.905058657440547, 'wind_direction': 21.000000000000007, 'air_pressure': 1015.71, 'humidity': 27, 'visibility': 9.999726596675416, 'predictability': 71}], 'time': '2019-10-07T22:30:12.138324-07:00', 'sun_rise': '2019-10-07T07:08:57.315860-07:00', 'sun_set': '2019-10-07T18:44:12.001252-07:00', 'timezone_name': 'LMT', 'parent': {'title': 'California', 'location_type': 'Region / State / Province', 'woeid': 2347563, 'latt_long': '37.271881,-119.270233'}, 'sources': [{'title': 'Forecast.io', 'slug': 'forecast-io', 'url': 'http://forecast.io/', 'crawl_rate': 480}, {'title': 'HAMweather', 'slug': 'hamweather', 'url': 'http://www.hamweather.com/', 'crawl_rate': 360}, {'title': 'OpenWeatherMap', 'slug': 'openweathermap', 'url': 'http://openweathermap.org/', 'crawl_rate': 360}, {'title': 'Weather Underground', 'slug': 'wunderground', 'url': 'https://www.wunderground.com/?apiref=fc30dc3cd224e19b', 'crawl_rate': 720}, {'title': 'World Weather Online', 'slug': 'world-weather-online', 'url': 'http://www.worldweatheronline.com/', 'crawl_rate': 360}], 'title': 'Mountain View', 'location_type': 'City', 'woeid': 2455920, 'latt_long': '37.39999,-122.079552', 'timezone': 'America/Los_Angeles'}\n"
          ],
          "name": "stdout"
        }
      ]
    },
    {
      "cell_type": "code",
      "metadata": {
        "id": "lu70H7Qz2Ce9",
        "colab_type": "code",
        "colab": {
          "base_uri": "https://localhost:8080/",
          "height": 316
        },
        "outputId": "e334ac95-140a-4480-85a8-259ebb3f79ed"
      },
      "source": [
        "print(json.dumps(d['consolidated_weather'][0], indent=4))"
      ],
      "execution_count": 13,
      "outputs": [
        {
          "output_type": "stream",
          "text": [
            "{\n",
            "    \"id\": 6569499119583232,\n",
            "    \"weather_state_name\": \"Light Cloud\",\n",
            "    \"weather_state_abbr\": \"lc\",\n",
            "    \"wind_direction_compass\": \"WNW\",\n",
            "    \"created\": \"2019-10-08T04:41:41.076899Z\",\n",
            "    \"applicable_date\": \"2019-10-07\",\n",
            "    \"min_temp\": 17.615000000000002,\n",
            "    \"max_temp\": 30.54,\n",
            "    \"the_temp\": 29.73,\n",
            "    \"wind_speed\": 2.2097220233834407,\n",
            "    \"wind_direction\": 296.5,\n",
            "    \"air_pressure\": 1013.88,\n",
            "    \"humidity\": 37,\n",
            "    \"visibility\": 9.69339059890241,\n",
            "    \"predictability\": 70\n",
            "}\n"
          ],
          "name": "stdout"
        }
      ]
    },
    {
      "cell_type": "code",
      "metadata": {
        "id": "DDUSqS152l7C",
        "colab_type": "code",
        "colab": {
          "base_uri": "https://localhost:8080/",
          "height": 35
        },
        "outputId": "5691ad40-0c5c-4218-98db-bcf19446378f"
      },
      "source": [
        "# there are weather forecast for 6 days\n",
        "len(d['consolidated_weather'])"
      ],
      "execution_count": 14,
      "outputs": [
        {
          "output_type": "execute_result",
          "data": {
            "text/plain": [
              "6"
            ]
          },
          "metadata": {
            "tags": []
          },
          "execution_count": 14
        }
      ]
    },
    {
      "cell_type": "code",
      "metadata": {
        "id": "cN9MlOgR27I6",
        "colab_type": "code",
        "colab": {
          "base_uri": "https://localhost:8080/",
          "height": 123
        },
        "outputId": "97d7500d-c6bc-45a4-edec-f2529042e22a"
      },
      "source": [
        "import requests\n",
        "\n",
        "r = requests.get('https://www.metaweather.com/api/location/2455920')\n",
        "d = r.json()\n",
        "\n",
        "for forecast in d['consolidated_weather']:\n",
        "    date = forecast['applicable_date']\n",
        "    humidity = forecast['humidity']\n",
        "    print(f\"{date}\\tHumidity: {humidity}\")"
      ],
      "execution_count": 15,
      "outputs": [
        {
          "output_type": "stream",
          "text": [
            "2019-10-07\tHumidity: 37\n",
            "2019-10-08\tHumidity: 60\n",
            "2019-10-09\tHumidity: 49\n",
            "2019-10-10\tHumidity: 31\n",
            "2019-10-11\tHumidity: 21\n",
            "2019-10-12\tHumidity: 27\n"
          ],
          "name": "stdout"
        }
      ]
    },
    {
      "cell_type": "code",
      "metadata": {
        "id": "GssSI9YW3AiO",
        "colab_type": "code",
        "colab": {
          "base_uri": "https://localhost:8080/",
          "height": 87
        },
        "outputId": "502a7170-ffa4-40b1-c3f4-0533c01d98d0"
      },
      "source": [
        "import requests\n",
        "yahoo = requests.get(\"https://www.yahoo.com/\")\n",
        "print(yahoo.text[:200])"
      ],
      "execution_count": 17,
      "outputs": [
        {
          "output_type": "stream",
          "text": [
            "<!DOCTYPE html>\n",
            "<html id=\"atomic\" lang=\"en-US\" class=\"atomic my3columns  l-out Pos-r https fp fp-v2 rc1 fp-default mini-uh-on viewer-right two-col ntk-wide ltr desktop Desktop bkt201\">\n",
            "<head>\n",
            "    <met\n"
          ],
          "name": "stdout"
        }
      ]
    },
    {
      "cell_type": "markdown",
      "metadata": {
        "id": "FjR0yVhN5bVu",
        "colab_type": "text"
      },
      "source": [
        "# Weather forecast app"
      ]
    },
    {
      "cell_type": "code",
      "metadata": {
        "id": "Kuy_JS0H5e6g",
        "colab_type": "code",
        "colab": {
          "base_uri": "https://localhost:8080/",
          "height": 35
        },
        "outputId": "d190ce2f-b700-46e8-f34b-4d178600eeff"
      },
      "source": [
        "%%writefile forecast.py\n",
        "#!/usr/bin/env python3\n",
        "\n",
        "import requests\n",
        "\n",
        "API_ROOT = 'https://www.metaweather.com'\n",
        "API_LOCATION = '/api/location/search/?query='\n",
        "API_WEATHER = '/api/location/'  # + woeid\n",
        "\n",
        "def fetch_location(query):\n",
        "    return requests.get(API_ROOT + API_LOCATION + query).json()\n",
        "\n",
        "def fetch_weather(woeid):\n",
        "    return requests.get(API_ROOT + API_WEATHER + str(woeid)).json()\n",
        "\n",
        "def disambiguate_locations(locations):\n",
        "    print(\"Ambiguous location! Did you mean:\")\n",
        "    for loc in locations:\n",
        "        print(f\"\\t* {loc['title']}\")\n",
        "\n",
        "def display_weather(weather):\n",
        "    print(f\"Weather for {weather['title']}:\")\n",
        "    for entry in weather['consolidated_weather']:\n",
        "        date = entry['applicable_date']\n",
        "        high = entry['max_temp']\n",
        "        low = entry['min_temp']\n",
        "        state = entry['weather_state_name']\n",
        "        print(f\"{date}\\t{state}\\thigh {high:2.1f}°C\\tlow {low:2.1f}°C\")\n",
        "\n",
        "def weather_dialog():\n",
        "    try:\n",
        "        where = ''\n",
        "        while not where:\n",
        "            where = input(\"Where in the world are you? \")\n",
        "        locations = fetch_location(where)\n",
        "        if len(locations) == 0:\n",
        "            print(\"I don't know where that is.\")\n",
        "        elif len(locations) > 1:\n",
        "            disambiguate_locations(locations)\n",
        "        else:\n",
        "            woeid = locations[0]['woeid']\n",
        "            display_weather(fetch_weather(woeid))\n",
        "    except requests.exceptions.ConnectionError:\n",
        "        print(\"Couldn't connect to server! Is the network up?\")\n",
        "\n",
        "if __name__ == '__main__':\n",
        "    while True:\n",
        "        weather_dialog()\n",
        "    "
      ],
      "execution_count": 20,
      "outputs": [
        {
          "output_type": "stream",
          "text": [
            "Writing forecast.py\n"
          ],
          "name": "stdout"
        }
      ]
    },
    {
      "cell_type": "code",
      "metadata": {
        "id": "crIA-7dJFs6O",
        "colab_type": "code",
        "colab": {
          "base_uri": "https://localhost:8080/",
          "height": 422
        },
        "outputId": "64b75c82-d219-4d92-a51a-96f84ef99032"
      },
      "source": [
        "!python forecast.py"
      ],
      "execution_count": 22,
      "outputs": [
        {
          "output_type": "stream",
          "text": [
            "Where in the world are you? Seattle\n",
            "Weather for Seattle:\n",
            "2019-10-07\tLight Rain\thigh 17.4°C\tlow 10.0°C\n",
            "2019-10-08\tShowers\thigh 12.9°C\tlow 8.6°C\n",
            "2019-10-09\tHeavy Cloud\thigh 11.0°C\tlow 3.4°C\n",
            "2019-10-10\tLight Cloud\thigh 12.9°C\tlow 2.0°C\n",
            "2019-10-11\tHeavy Cloud\thigh 15.2°C\tlow 1.7°C\n",
            "2019-10-12\tHeavy Cloud\thigh 15.1°C\tlow 4.0°C\n",
            "Where in the world are you? Shanghai\n",
            "Weather for Shanghai:\n",
            "2019-10-08\tHeavy Cloud\thigh 23.2°C\tlow 17.8°C\n",
            "2019-10-09\tLight Cloud\thigh 24.5°C\tlow 16.8°C\n",
            "2019-10-10\tClear\thigh 27.4°C\tlow 18.0°C\n",
            "2019-10-11\tHeavy Cloud\thigh 25.0°C\tlow 19.2°C\n",
            "2019-10-12\tLight Cloud\thigh 23.8°C\tlow 19.3°C\n",
            "2019-10-13\tHeavy Cloud\thigh 24.6°C\tlow 18.8°C\n",
            "Where in the world are you? Traceback (most recent call last):\n",
            "  File \"forecast.py\", line 47, in <module>\n",
            "    weather_dialog()\n",
            "  File \"forecast.py\", line 33, in weather_dialog\n",
            "    where = input(\"Where in the world are you? \")\n",
            "KeyboardInterrupt\n",
            "^C\n"
          ],
          "name": "stdout"
        }
      ]
    }
  ]
}