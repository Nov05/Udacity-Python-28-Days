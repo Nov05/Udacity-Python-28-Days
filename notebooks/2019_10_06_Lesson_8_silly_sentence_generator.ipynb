{
  "nbformat": 4,
  "nbformat_minor": 0,
  "metadata": {
    "colab": {
      "name": "2019-10-06 Lesson 8 silly sentence generator.ipynb",
      "provenance": [],
      "collapsed_sections": [],
      "include_colab_link": true
    },
    "kernelspec": {
      "name": "python3",
      "display_name": "Python 3"
    }
  },
  "cells": [
    {
      "cell_type": "markdown",
      "metadata": {
        "id": "view-in-github",
        "colab_type": "text"
      },
      "source": [
        "<a href=\"https://colab.research.google.com/github/Nov05/Udacity-Python-28-Days/blob/master/notebooks/2019_10_06_Lesson_8_silly_sentence_generator.ipynb\" target=\"_parent\"><img src=\"https://colab.research.google.com/assets/colab-badge.svg\" alt=\"Open In Colab\"/></a>"
      ]
    },
    {
      "cell_type": "code",
      "metadata": {
        "id": "jh4PcMG4ZtD6",
        "colab_type": "code",
        "colab": {}
      },
      "source": [
        "# created by nov05 on 2019-10-07"
      ],
      "execution_count": 0,
      "outputs": []
    },
    {
      "cell_type": "code",
      "metadata": {
        "id": "aljEKUpAMbNZ",
        "colab_type": "code",
        "outputId": "b1fa43e1-83f7-4b80-8ab5-300a736c49ab",
        "colab": {
          "base_uri": "https://localhost:8080/",
          "height": 35
        }
      },
      "source": [
        "%%writefile words.py\n",
        "nouns = ['apple', 'ball', 'cat', 'dog', 'elephant',\n",
        "         'fish', 'goat', 'house', 'iceberg', 'jackal',\n",
        "         'king', 'llama', 'monkey', 'nurse', 'octopus',\n",
        "         'pie', 'queen', 'robot', 'snake', 'tofu',\n",
        "         'unicorn', 'vampire', 'wumpus', 'x-ray', 'yak',\n",
        "         'zebra']\n",
        "\n",
        "verbs = ['ate', 'bit', 'caught', 'dropped', 'explained',\n",
        "         'fed', 'grabbed', 'hacked', 'inked', 'jumped',\n",
        "         'knitted', 'loved', 'made', 'nosed', 'oiled',\n",
        "         'puffed', 'quit', 'rushed', 'stung', 'trapped',\n",
        "         'uplifted', 'valued', 'wanted']\n",
        "\n",
        "templates = [\n",
        "        'Waiter! I found a {{noun}} in my {{noun}}!',\n",
        "        'The {{noun}} {{verb}} the {{noun}}.',\n",
        "        'If you {{verb}} the {{noun}}, '\n",
        "        'the {{noun}} will get you.',\n",
        "        \"Let's go: the {{noun}} is {{verb}}.\",\n",
        "        'Colorless green {{noun}}s {{verb}} furiously.'\n",
        "]"
      ],
      "execution_count": 0,
      "outputs": [
        {
          "output_type": "stream",
          "text": [
            "Writing words.py\n"
          ],
          "name": "stdout"
        }
      ]
    },
    {
      "cell_type": "code",
      "metadata": {
        "id": "VjdnJFxJM-Y8",
        "colab_type": "code",
        "outputId": "528f4a08-11ed-42d9-927b-4379b02a6b48",
        "colab": {
          "base_uri": "https://localhost:8080/",
          "height": 35
        }
      },
      "source": [
        "%%writefile silly.py\n",
        "import random\n",
        "import words\n",
        "\n",
        "\n",
        "def silly_string(nouns, verbs, templates):\n",
        "    # Choose a random template.\n",
        "    template = random.choice(templates)\n",
        "\n",
        "    # We'll append strings into this list for output.\n",
        "    output = []\n",
        "\n",
        "    # Keep track of where in the template string we are.\n",
        "    index = 0\n",
        "\n",
        "    # Add a while loop here.\n",
        "    while index < len(template):\n",
        "        if template[index:index+8]=='{{noun}}':\n",
        "            output.append(random.choice(nouns))\n",
        "            index += 8\n",
        "        elif template[index:index+8]=='{{verb}}':\n",
        "            output.append(random.choice(verbs))\n",
        "            index += 8\n",
        "        else:\n",
        "            output.append(template[index])\n",
        "            index += 1\n",
        "\n",
        "    # After the loop has finished, join the output and return it.\n",
        "    return ''.join(output)\n",
        "\n",
        "if __name__ == '__main__':\n",
        "    for _ in range(10):\n",
        "        print(silly_string(words.nouns, words.verbs,\n",
        "              words.templates))"
      ],
      "execution_count": 0,
      "outputs": [
        {
          "output_type": "stream",
          "text": [
            "Overwriting silly.py\n"
          ],
          "name": "stdout"
        }
      ]
    },
    {
      "cell_type": "code",
      "metadata": {
        "id": "hB1J-qFBXhNj",
        "colab_type": "code",
        "outputId": "14b43e04-20ad-4455-bb36-1fb6ad0bdf0c",
        "colab": {
          "base_uri": "https://localhost:8080/",
          "height": 193
        }
      },
      "source": [
        "!python silly.py"
      ],
      "execution_count": 0,
      "outputs": [
        {
          "output_type": "stream",
          "text": [
            "If you jumped the apple, the unicorn will get you.\n",
            "The yak jumped the goat.\n",
            "If you inked the x-ray, the house will get you.\n",
            "The monkey fed the llama.\n",
            "Waiter! I found a robot in my octopus!\n",
            "Waiter! I found a tofu in my x-ray!\n",
            "Colorless green x-rays rushed furiously.\n",
            "Waiter! I found a tofu in my goat!\n",
            "If you knitted the monkey, the tofu will get you.\n",
            "Colorless green unicorns caught furiously.\n"
          ],
          "name": "stdout"
        }
      ]
    }
  ]
}