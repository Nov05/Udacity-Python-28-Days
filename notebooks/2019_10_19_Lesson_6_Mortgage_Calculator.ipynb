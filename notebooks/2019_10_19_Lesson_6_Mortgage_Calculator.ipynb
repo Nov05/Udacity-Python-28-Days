{
  "nbformat": 4,
  "nbformat_minor": 0,
  "metadata": {
    "colab": {
      "name": "2019-10-19 Lesson 6 Mortgage Calculator.ipynb",
      "provenance": [],
      "collapsed_sections": [],
      "include_colab_link": true
    },
    "kernelspec": {
      "name": "python3",
      "display_name": "Python 3"
    }
  },
  "cells": [
    {
      "cell_type": "markdown",
      "metadata": {
        "id": "view-in-github",
        "colab_type": "text"
      },
      "source": [
        "<a href=\"https://colab.research.google.com/github/Nov05/Udacity-Python-28-Days/blob/master/notebooks/2019_10_19_Lesson_6_Mortgage_Calculator.ipynb\" target=\"_parent\"><img src=\"https://colab.research.google.com/assets/colab-badge.svg\" alt=\"Open In Colab\"/></a>"
      ]
    },
    {
      "cell_type": "code",
      "metadata": {
        "id": "659ng-W8ZM4q",
        "colab_type": "code",
        "colab": {}
      },
      "source": [
        "# created by nov05 on 2019-10-19"
      ],
      "execution_count": 0,
      "outputs": []
    },
    {
      "cell_type": "markdown",
      "metadata": {
        "id": "D4GsrHqPZJom",
        "colab_type": "text"
      },
      "source": [
        "https://github.com/Nov05/Udacity-Python-28-Days  "
      ]
    },
    {
      "cell_type": "code",
      "metadata": {
        "id": "GhNgtkfmPvpz",
        "colab_type": "code",
        "outputId": "0cec8246-11f8-4adb-8db3-df424a9b1e53",
        "colab": {
          "base_uri": "https://localhost:8080/",
          "height": 420
        }
      },
      "source": [
        "def calc_epp(P, R, N, n):\n",
        "    \"\"\"\n",
        "    计算等额本金下，第 n+1 月的还款额。此时，已有 n 个月完成还款。\n",
        "    EPP：Equal Principal Payment 等额本金\n",
        "\n",
        "    计算公式：每月还款金额 = (贷款本金 / 还款月数) + (本金 — 已归还本金累计额) × 每月利率\n",
        "\n",
        "    输入：\n",
        "    P：贷款本金总额\n",
        "    R：月利率\n",
        "    N：还款月数\n",
        "    n：第 n 个月\n",
        "\n",
        "    输出：\n",
        "    返回 monthly_payment：第 n+1 月的还款额，保留 2 位小数\n",
        "    \"\"\"\n",
        "    monthly_payment = round((P/N)+(P-P/N*(n))*R, 2)\n",
        "\n",
        "    return monthly_payment\n",
        "\n",
        "def calc_elp(P, R, N):\n",
        "    \"\"\"\n",
        "    计算等额本息下，第 n+1 月的还款额。此时，已有 n 个月完成还款。\n",
        "    ELP：Equal Loan Payment 等额本息\n",
        "\n",
        "    计算公式：每月还款额 = [贷款本金 × 月利率 × (1+月利率) ^ 还款月数] ÷ [(1+月利率) ^ 还款月数－1]\n",
        "\n",
        "    输入：\n",
        "    P：贷款本金总额\n",
        "    R：月利率\n",
        "    N：还款月数\n",
        "\n",
        "    输出：\n",
        "    返回 monthly_payment：第 n+1 月的还款额，保留 2 位小数\n",
        "    \"\"\"\n",
        "    monthly_payment = round((P*R*(1+R)**N / ((1+R)**N-1)), 2)\n",
        "\n",
        "    return monthly_payment\n",
        "\n",
        "def calc_monthly_payment(P, R, N, EPP):\n",
        "    \"\"\"\n",
        "    按月打印每月的还款额\n",
        "\n",
        "    输入：\n",
        "    P：贷款本金总额\n",
        "    R：月利率\n",
        "    N：还款月数\n",
        "    EPP：Equal Principal Payment 等额本金\n",
        "\n",
        "    输出：\n",
        "    按月打印每月的还款额\n",
        "\n",
        "    \"\"\"\n",
        "\n",
        "    monthly_payment_list = []\n",
        "\n",
        "    if EPP:\n",
        "        ## 使用等额本金公式\n",
        "        for n in range(N):\n",
        "            monthly_payment = calc_epp(P, R, N, n)\n",
        "            print(\"第 %i 月，需要还款 %.2f\" %(n, monthly_payment))\n",
        "    else:\n",
        "        ## 使用等额本息公式\n",
        "        for n in range(N):\n",
        "            monthly_payment = calc_elp(P, R, N)\n",
        "            print(\"第 %i 月，需要还款 %.2f\" %(n, monthly_payment))\n",
        "\n",
        "## 测试 ##\n",
        "## 假设贷款本金为 10000, 年利率为 12%，贷款时长为 2 年，按等额本金计算\n",
        "calc_monthly_payment(10000, 0.01, 24, True)"
      ],
      "execution_count": 0,
      "outputs": [
        {
          "output_type": "stream",
          "text": [
            "第 0 月，需要还款 516.67\n",
            "第 1 月，需要还款 512.50\n",
            "第 2 月，需要还款 508.33\n",
            "第 3 月，需要还款 504.17\n",
            "第 4 月，需要还款 500.00\n",
            "第 5 月，需要还款 495.83\n",
            "第 6 月，需要还款 491.67\n",
            "第 7 月，需要还款 487.50\n",
            "第 8 月，需要还款 483.33\n",
            "第 9 月，需要还款 479.17\n",
            "第 10 月，需要还款 475.00\n",
            "第 11 月，需要还款 470.83\n",
            "第 12 月，需要还款 466.67\n",
            "第 13 月，需要还款 462.50\n",
            "第 14 月，需要还款 458.33\n",
            "第 15 月，需要还款 454.17\n",
            "第 16 月，需要还款 450.00\n",
            "第 17 月，需要还款 445.83\n",
            "第 18 月，需要还款 441.67\n",
            "第 19 月，需要还款 437.50\n",
            "第 20 月，需要还款 433.33\n",
            "第 21 月，需要还款 429.17\n",
            "第 22 月，需要还款 425.00\n",
            "第 23 月，需要还款 420.83\n"
          ],
          "name": "stdout"
        }
      ]
    }
  ]
}