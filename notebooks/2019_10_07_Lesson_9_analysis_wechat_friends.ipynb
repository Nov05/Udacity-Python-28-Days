{
  "nbformat": 4,
  "nbformat_minor": 0,
  "metadata": {
    "colab": {
      "name": "2019-10-07 Lesson 9 analysis wechat friends.ipynb",
      "provenance": [],
      "collapsed_sections": [],
      "include_colab_link": true
    },
    "kernelspec": {
      "name": "python3",
      "display_name": "Python 3"
    }
  },
  "cells": [
    {
      "cell_type": "markdown",
      "metadata": {
        "id": "view-in-github",
        "colab_type": "text"
      },
      "source": [
        "<a href=\"https://colab.research.google.com/github/Nov05/Udacity-Python-28-Days/blob/master/notebooks/2019_10_07_Lesson_9_analysis_wechat_friends.ipynb\" target=\"_parent\"><img src=\"https://colab.research.google.com/assets/colab-badge.svg\" alt=\"Open In Colab\"/></a>"
      ]
    },
    {
      "cell_type": "markdown",
      "metadata": {
        "id": "feTZKEqkh4uS",
        "colab_type": "text"
      },
      "source": [
        "相信你对微信一定非常熟悉，那么，你有没有想过，我们可以使用强大的 Python 来对我们微信好友进行数据分析呢？在这个项目中，你将一步步分析你的微信好友数据从而了解：   \n",
        "- 好友的男女比例\n",
        "- 好友所在的省份\n",
        "- 建立词云了解你好友的个性签名关键词"
      ]
    },
    {
      "cell_type": "code",
      "metadata": {
        "id": "Tx3j9RyW3_aR",
        "colab_type": "code",
        "colab": {}
      },
      "source": [
        "from google.colab import drive\n",
        "drive.mount('/content/drive')"
      ],
      "execution_count": 0,
      "outputs": []
    },
    {
      "cell_type": "markdown",
      "metadata": {
        "id": "QNnidlxyaAUL",
        "colab_type": "text"
      },
      "source": [
        "all files needed are store in this folder.   \n",
        "assets = \"/content/drive/My Drive/Udacity/Learn Python in 28 Days/assets/\"    \n",
        "https://drive.google.com/drive/folders/1_dHLbp69my86KnLL7zSoaieM-gM4Dmi8?usp=sharing   "
      ]
    },
    {
      "cell_type": "code",
      "metadata": {
        "id": "0NnXpyKei8z0",
        "colab_type": "code",
        "colab": {}
      },
      "source": [
        "!pip install pinyin\n",
        "# Successfully installed pinyin-0.4.0\n",
        "!pip install wordcloud\n",
        "!pip install jieba"
      ],
      "execution_count": 0,
      "outputs": []
    },
    {
      "cell_type": "code",
      "metadata": {
        "id": "vii-62vrh2Vq",
        "colab_type": "code",
        "outputId": "59ee0ad7-1276-41c8-d2a1-260cf82dadd4",
        "colab": {
          "base_uri": "https://localhost:8080/",
          "height": 195
        }
      },
      "source": [
        "import pandas as pd\n",
        "import re\n",
        "import os \n",
        "import numpy as np\n",
        "import pinyin\n",
        "import matplotlib\n",
        "matplotlib.use('Agg')\n",
        "import matplotlib.pyplot as plt\n",
        "from wordcloud import WordCloud\n",
        "import jieba\n",
        "import PIL.Image as Image\n",
        "\n",
        "assets = \"/content/drive/My Drive/Udacity/Learn Python in 28 Days/assets/\"\n",
        "\n",
        "# 读取并转换数据的格式\n",
        "# 这里我们使用了假数据来完成项目，如果您倾向于探索自己微信好友的数据，您可以参考以下资料在本地完成\n",
        "# https://github.com/udacity/AIPND-cn-trial\n",
        "dataset = pd.read_csv(assets+'wechat_friends.csv').fillna('').to_dict('records')\n",
        "\n",
        "## 任务1：好友男女比例\n",
        "# 根据我们希望探索的问题，需要从数据集中取出以下几个部分：\n",
        "# * NickName：微信昵称\n",
        "# * Sex：性别，1表示男性，2表示女性，其它表示 unknown\n",
        "# * Province：省份\n",
        "# * City：城市\n",
        "# * Signature：微信签名\n",
        "\n",
        "## TODO：打印 dataset 的数据类型\n",
        "print('dataset 的数据类型：', type(dataset))\n",
        "\n",
        "## TODO：打印第一条数据及数据类型\n",
        "print('dataset 中的第一条数据：', dataset[0])\n",
        "print('dataset 中第一条数据的数据类型：', type(dataset[0]))\n",
        "\n",
        "## TODO：打印第一条数据的微信昵称\n",
        "print('dataset 中第一条数据的微信昵称：', dataset[0]['NickName'])\n",
        "\n",
        "\n",
        "# ## 任务2：统计男女比例\n",
        "# 统计好友性别，分为男性、女性与未知三种，赋值到已经定义好的 sex 字典中。\n",
        "# 虽然我们这里没有要求，但是实际的名单中，索引为0的实际是自己；\n",
        "\n",
        "## TODO：统计好友性别\n",
        "sex = {\n",
        "    'male': 0,\n",
        "    'female': 0,\n",
        "    'unknown': 0\n",
        "}\n",
        "\n",
        "for f in dataset:\n",
        "    if f['Sex'] == 1:\n",
        "        sex['male'] += 1\n",
        "    elif f['Sex'] == 2:\n",
        "        sex['male'] += 1\n",
        "    else:\n",
        "        sex['unknown'] += 1\n",
        "\n",
        "print(\"我的好友中共有\", sex['male'],\"位男性、\", sex['female'], \"位女性，有\", sex['unknown'], \"位好友未填写。\")\n",
        "\n",
        "## 使用饼图分析好友的性别信息，饼图用来分析不同分类的占比情况。\n",
        "## 以下代码不需要更改，matplotlib 是 Python 下常用的可视化工具。\n",
        "## 若有兴趣，你可以学习优达学城的数据分析（入门）课程。\n",
        "plt.figure(figsize=(8,6), dpi=80)\n",
        "plt.axes(aspect=1) \n",
        "plt.pie([sex['male'], sex['female'], sex['unknown']],\n",
        "        labels=['Male','Female','Unknown'],\n",
        "        labeldistance=1.1,\n",
        "        autopct='%3.1f%%',\n",
        "        shadow=False,\n",
        "        startangle=90,\n",
        "        pctdistance=0.6 \n",
        ")\n",
        "\n",
        "plt.legend(loc='upper left',)\n",
        "plt.title(\"My Wechat Friends' Sex Ratio\")\n",
        "plt.savefig('sex_ratio.png') # 导出图片\n",
        "\n",
        "# ## 任务 3：统计好友省份\n",
        "# 使用 list 中 append() 方法将好友省份添加至 province 中，注意要去除空的字符串\n",
        "# 提示：这里要去除的空字符串，指的是好友省份信息中为空的那些。空字符串是''，你可以用 == 来判断它。\n",
        "\n",
        "### TODO：将好友所在省份（不为空）添加到 province 中\n",
        "province = []\n",
        "for f in dataset:\n",
        "    if f['Province'] != '':\n",
        "        province.append(f['Province'])\n",
        "\n",
        "### 以下内容无需修改，直接运行即可\n",
        "province = [pinyin.get(i, format=\"strip\", delimiter=\"\") for i in province if i != '']\n",
        "province = pd.DataFrame(province)\n",
        "province.columns = ['Province']\n",
        "province['Number of Friends'] = 1\n",
        "# 条形图用于描述分类变量的分布情况。在条形图中，分类变量的每个级别用长条表示，高度表示数据在该级别的出现频率。\n",
        "province.groupby('Province').sum().sort_values('Number of Friends', ascending=False)[:10].plot.bar(rot=25)\n",
        "plt.savefig('provice.png')\n",
        "\n",
        "\n",
        "# ## 任务 4：打印个性签名\n",
        "# 使用 print() 语句打印出第 2 条签名\n",
        "\n",
        "### TODO：打印出第2条签名\n",
        "print(dataset[1]['Signature'])\n",
        "\n",
        "### 以下内容无需修改，直接运行即可\n",
        "\n",
        "tList = []\n",
        "for i in dataset:\n",
        "    signature = i[\"Signature\"].replace(\" \", \"\").replace(\"span\", \"\").replace(\"class\", \"\").replace(\"emoji\", \"\")\n",
        "    rep = re.compile(\"1f\\d.+\")\n",
        "    signature = rep.sub(\"\", signature)\n",
        "    if len(signature) > 0:\n",
        "        tList.append(signature)\n",
        "\n",
        "text = \"\".join(tList)\n",
        "\n",
        "wordlist_jieba = jieba.cut(text, cut_all=True)\n",
        "wl_space_split = \" \".join(wordlist_jieba)\n",
        "\n",
        "alice_coloring = np.array(Image.open(assets+\"wechat.jpg\"))\n",
        "\n",
        "my_wordcloud = WordCloud(background_color=\"white\", max_words=2000, mask=alice_coloring,\n",
        "                         max_font_size=40, random_state=42, font_path=assets+'NotoSansHans-DemiLight.otf').generate(wl_space_split)\n",
        "\n",
        "\n",
        "plt.imshow(my_wordcloud)\n",
        "plt.axis(\"off\")\n",
        "\n",
        "my_wordcloud.to_file(\"wechatfriends_wordcloud.png\")"
      ],
      "execution_count": 0,
      "outputs": [
        {
          "output_type": "stream",
          "text": [
            "dataset 的数据类型： <class 'list'>\n",
            "dataset 中的第一条数据： {'NickName': 'Myself', 'Province': '江苏', 'City': '南京', 'Sex': 2.0, 'Signature': 'Enjoy<span class=\"emoji emoji1f49d\"></span>'}\n",
            "dataset 中第一条数据的数据类型： <class 'dict'>\n",
            "dataset 中第一条数据的微信昵称： Myself\n",
            "我的好友中共有 101 位男性、 0 位女性，有 9 位好友未填写。\n"
          ],
          "name": "stdout"
        },
        {
          "output_type": "stream",
          "text": [
            "/usr/local/lib/python3.6/dist-packages/matplotlib/pyplot.py:514: RuntimeWarning: More than 20 figures have been opened. Figures created through the pyplot interface (`matplotlib.pyplot.figure`) are retained until explicitly closed and may consume too much memory. (To control this warning, see the rcParam `figure.max_open_warning`).\n",
            "  max_open_warning, RuntimeWarning)\n"
          ],
          "name": "stderr"
        },
        {
          "output_type": "stream",
          "text": [
            "每一天，为明天。自己是一切的根源！\n"
          ],
          "name": "stdout"
        },
        {
          "output_type": "execute_result",
          "data": {
            "text/plain": [
              "<wordcloud.wordcloud.WordCloud at 0x7f2741e673c8>"
            ]
          },
          "metadata": {
            "tags": []
          },
          "execution_count": 16
        }
      ]
    },
    {
      "cell_type": "code",
      "metadata": {
        "id": "v9_P8o285nY9",
        "colab_type": "code",
        "outputId": "2239bfb6-9686-4cbf-8409-5f3e60d40008",
        "colab": {
          "base_uri": "https://localhost:8080/",
          "height": 220
        }
      },
      "source": [
        "df = pd.read_csv(assets+'wechat_friends.csv')\n",
        "print(df.shape)\n",
        "df.head()"
      ],
      "execution_count": 0,
      "outputs": [
        {
          "output_type": "stream",
          "text": [
            "(110, 5)\n"
          ],
          "name": "stdout"
        },
        {
          "output_type": "execute_result",
          "data": {
            "text/html": [
              "<div>\n",
              "<style scoped>\n",
              "    .dataframe tbody tr th:only-of-type {\n",
              "        vertical-align: middle;\n",
              "    }\n",
              "\n",
              "    .dataframe tbody tr th {\n",
              "        vertical-align: top;\n",
              "    }\n",
              "\n",
              "    .dataframe thead th {\n",
              "        text-align: right;\n",
              "    }\n",
              "</style>\n",
              "<table border=\"1\" class=\"dataframe\">\n",
              "  <thead>\n",
              "    <tr style=\"text-align: right;\">\n",
              "      <th></th>\n",
              "      <th>NickName</th>\n",
              "      <th>Province</th>\n",
              "      <th>City</th>\n",
              "      <th>Sex</th>\n",
              "      <th>Signature</th>\n",
              "    </tr>\n",
              "  </thead>\n",
              "  <tbody>\n",
              "    <tr>\n",
              "      <th>0</th>\n",
              "      <td>Myself</td>\n",
              "      <td>江苏</td>\n",
              "      <td>南京</td>\n",
              "      <td>2.0</td>\n",
              "      <td>Enjoy&lt;span class=\"emoji emoji1f49d\"&gt;&lt;/span&gt;</td>\n",
              "    </tr>\n",
              "    <tr>\n",
              "      <th>1</th>\n",
              "      <td>Hansen</td>\n",
              "      <td>江苏</td>\n",
              "      <td>南京</td>\n",
              "      <td>1.0</td>\n",
              "      <td>每一天，为明天。自己是一切的根源！</td>\n",
              "    </tr>\n",
              "    <tr>\n",
              "      <th>2</th>\n",
              "      <td>Callie</td>\n",
              "      <td>Know City</td>\n",
              "      <td>NaN</td>\n",
              "      <td>2.0</td>\n",
              "      <td>是该去远方放松下了</td>\n",
              "    </tr>\n",
              "    <tr>\n",
              "      <th>3</th>\n",
              "      <td>Camilla</td>\n",
              "      <td>江苏</td>\n",
              "      <td>南京</td>\n",
              "      <td>2.0</td>\n",
              "      <td>I will love you with every beat of my heart.</td>\n",
              "    </tr>\n",
              "    <tr>\n",
              "      <th>4</th>\n",
              "      <td>skyfeng</td>\n",
              "      <td>江苏</td>\n",
              "      <td>南京</td>\n",
              "      <td>1.0</td>\n",
              "      <td>面朝大海，春暖花开</td>\n",
              "    </tr>\n",
              "  </tbody>\n",
              "</table>\n",
              "</div>"
            ],
            "text/plain": [
              "  NickName   Province City  Sex                                     Signature\n",
              "0   Myself         江苏   南京  2.0   Enjoy<span class=\"emoji emoji1f49d\"></span>\n",
              "1   Hansen         江苏   南京  1.0                             每一天，为明天。自己是一切的根源！\n",
              "2   Callie  Know City  NaN  2.0                                     是该去远方放松下了\n",
              "3  Camilla         江苏   南京  2.0  I will love you with every beat of my heart.\n",
              "4  skyfeng         江苏   南京  1.0                                     面朝大海，春暖花开"
            ]
          },
          "metadata": {
            "tags": []
          },
          "execution_count": 10
        }
      ]
    }
  ]
}