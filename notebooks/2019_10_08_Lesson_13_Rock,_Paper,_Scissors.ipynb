{
  "nbformat": 4,
  "nbformat_minor": 0,
  "metadata": {
    "colab": {
      "name": "2019-10-08 Lesson 13 Rock, Paper, Scissors.ipynb",
      "provenance": [],
      "collapsed_sections": [],
      "include_colab_link": true
    },
    "kernelspec": {
      "name": "python3",
      "display_name": "Python 3"
    }
  },
  "cells": [
    {
      "cell_type": "markdown",
      "metadata": {
        "id": "view-in-github",
        "colab_type": "text"
      },
      "source": [
        "<a href=\"https://colab.research.google.com/github/Nov05/Udacity-Python-28-Days/blob/master/notebooks/2019_10_08_Lesson_13_Rock%2C_Paper%2C_Scissors.ipynb\" target=\"_parent\"><img src=\"https://colab.research.google.com/assets/colab-badge.svg\" alt=\"Open In Colab\"/></a>"
      ]
    },
    {
      "cell_type": "code",
      "metadata": {
        "id": "2zszs6c7xAaa",
        "colab_type": "code",
        "colab": {}
      },
      "source": [
        "# created by nov05 on 2019-10-08"
      ],
      "execution_count": 0,
      "outputs": []
    },
    {
      "cell_type": "markdown",
      "metadata": {
        "id": "eig_ZBiKZWsJ",
        "colab_type": "text"
      },
      "source": [
        "https://github.com/Nov05/Udacity-Python-28-Days"
      ]
    },
    {
      "cell_type": "code",
      "metadata": {
        "id": "7LADz4pWxTg4",
        "colab_type": "code",
        "outputId": "6a024112-832a-478f-80c1-ebf376cdae5c",
        "colab": {
          "base_uri": "https://localhost:8080/",
          "height": 35
        }
      },
      "source": [
        "%%writefile app.py\n",
        "#!/usr/bin/env python3\n",
        "\n",
        "\"\"\"你将通过完成这段程序来实现“石头剪刀布”的游戏。这个游戏涉及 2 个玩家，\n",
        "并且在每轮结束后统计 2 个玩家的得分情况。\n",
        "\"\"\"\n",
        "\n",
        "import random\n",
        "\n",
        "moves = ['rock', 'paper', 'scissors']\n",
        "\n",
        "class Player:\n",
        "    \"\"\"这个 Player 的类是所有 Player 类别的父类。你将编写多个与 Player 有关的类。\n",
        "    \"\"\"\n",
        "    def move(self):\n",
        "        return 'rock'\n",
        "\n",
        "    def learn(self, my_move, their_move):\n",
        "        pass\n",
        "\n",
        "class RandomPlayer(Player):\n",
        "    \"\"\"继承 Player 类，随机输出。\n",
        "    \"\"\"\n",
        "    def move(self):\n",
        "        return random.choice(moves)\n",
        "\n",
        "class HumanPlayer(Player):\n",
        "    \"\"\"继承 Player 类，并接收人工输入的结果。\n",
        "    \"\"\"\n",
        "    def move(self):\n",
        "        move = input(\"rock, paper, scissors, or quit >\").lower()\n",
        "        while move not in ['rock', 'paper', 'scissors', 'quit']:\n",
        "            print(\"Invalid input. Please choose again.\")\n",
        "            move = input(\"Please choose rock, paper, scissors, or quit >\").lower()\n",
        "        if move != \"quit\":\n",
        "            print(f\"You played {move}.\")\n",
        "        return move\n",
        "\n",
        "class ReflectPlayer(RandomPlayer):\n",
        "    \"\"\"继承 RandomPlayer 类，输出对手上一轮的选择。\n",
        "    \"\"\"\n",
        "    def __init__(self):\n",
        "        self.my_move = \"\"\n",
        "        self.their_move = \"\"\n",
        "\n",
        "    def learn(self, my_move, their_move):\n",
        "        self.my_move = my_move\n",
        "        self.their_move = their_move\n",
        "    def move(self):\n",
        "        if self.their_move == \"\":\n",
        "            return super().move()\n",
        "        else:\n",
        "            return self.their_move\n",
        "\n",
        "class CyclePlayer(RandomPlayer):\n",
        "    \"\"\"继承 RandomPlayer 类，循环采用不同的选择。\n",
        "    \"\"\"\n",
        "    def __init__(self):\n",
        "        self.my_move = \"\"\n",
        "        self.their_move = \"\"\n",
        "\n",
        "    def learn(self, my_move, their_move):\n",
        "        self.my_move = my_move\n",
        "        self.their_move = their_move\n",
        "\n",
        "    def move(self):\n",
        "        if self.my_move == \"\":\n",
        "            return super().move()\n",
        "        elif self.my_move == \"rock\":\n",
        "            return \"paper\"\n",
        "        elif self.my_move == \"paper\":\n",
        "            return \"scissors\"\n",
        "        else:\n",
        "            return \"rock\"\n",
        "\n",
        "def beats(one, two):\n",
        "    return ((one == 'rock' and two == 'scissors') or\n",
        "            (one == 'scissors' and two == 'paper') or\n",
        "            (one == 'paper' and two == 'rock'))\n",
        "\n",
        "class Game:\n",
        "    def __init__(self, p1, p2):\n",
        "        self.p1 = p1\n",
        "        self.p2 = p2\n",
        "        self.results = {'p1': 0, 'p2': 0}\n",
        "        self.end = False\n",
        "\n",
        "    def update_results(self, one, two):\n",
        "        if one == two:\n",
        "            print(\"It's a tie!\") \n",
        "        elif beats(one, two):\n",
        "            print(\"Player 1 won!\") \n",
        "            self.results['p1'] += 1\n",
        "        else:\n",
        "            print(\"Player 2 won!\") \n",
        "            self.results['p2'] += 1\n",
        "\n",
        "    def play_round(self):\n",
        "        move1 = self.p1.move()\n",
        "        move2 = self.p2.move()\n",
        "\n",
        "        if move1 != \"quit\": ## 如果用户输入 quit，则直接退出\n",
        "            print(f\"Player 1: {move1}, Player 2: {move2}\")\n",
        "            self.update_results(move1, move2)\n",
        "            print(f\"Score: Player 1: {self.results['p1']}, Player 2: {self.results['p2']}\")\n",
        "            self.p1.learn(move1, move2)\n",
        "            self.p2.learn(move2, move1)\n",
        "        else:\n",
        "            self.end = True\n",
        "\n",
        "    def play_game(self):\n",
        "        print(\"Game on!\")\n",
        "        round = 0\n",
        "        while self.end == False:\n",
        "            print(f\"\\nRound {round}:\")\n",
        "            self.play_round()\n",
        "            round += 1\n",
        "        print(\"\\n【Final result】\")\n",
        "        if self.results['p1'] == self.results['p2']:\n",
        "            print(\"It is a tie!\")\n",
        "        elif self.results['p1'] > self.results['p2']:\n",
        "            print(\"Player 1 won!\")\n",
        "        else:\n",
        "            print(\"Player 2 won!\")\n",
        "        print(f\"【Final scores】\\nPlayer 1：{self.results['p1']}\")\n",
        "        print(f\"Player 2：{self.results['p2']}\")\n",
        "        print(\"\\nBye bye!\")\n",
        "\n",
        "\n",
        "if __name__ == '__main__':\n",
        "    game = Game(HumanPlayer(), CyclePlayer())\n",
        "    game.play_game()"
      ],
      "execution_count": 0,
      "outputs": [
        {
          "output_type": "stream",
          "text": [
            "Overwriting app.py\n"
          ],
          "name": "stdout"
        }
      ]
    },
    {
      "cell_type": "code",
      "metadata": {
        "id": "oAJdYNUlzkvG",
        "colab_type": "code",
        "outputId": "8a691fdf-32ac-46f2-e262-236de0811563",
        "colab": {
          "base_uri": "https://localhost:8080/",
          "height": 475
        }
      },
      "source": [
        "!python app.py"
      ],
      "execution_count": 0,
      "outputs": [
        {
          "output_type": "stream",
          "text": [
            "Game on!\n",
            "\n",
            "Round 0:\n",
            "rock, paper, scissors, or quit >paper\n",
            "You played paper.\n",
            "Player 1: paper, Player 2: paper\n",
            "It's a tie!\n",
            "Score: Player 1: 0, Player 2: 0\n",
            "\n",
            "Round 1:\n",
            "rock, paper, scissors, or quit >paper\n",
            "You played paper.\n",
            "Player 1: paper, Player 2: scissors\n",
            "Player 2 won!\n",
            "Score: Player 1: 0, Player 2: 1\n",
            "\n",
            "Round 2:\n",
            "rock, paper, scissors, or quit >quit\n",
            "\n",
            "【Final result】\n",
            "Player 2 won!\n",
            "【Final scores】\n",
            "Player 1：0\n",
            "Player 2：1\n",
            "\n",
            "Bye bye!\n"
          ],
          "name": "stdout"
        }
      ]
    }
  ]
}